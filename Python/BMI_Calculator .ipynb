{
  "nbformat": 4,
  "nbformat_minor": 0,
  "metadata": {
    "colab": {
      "provenance": []
    },
    "kernelspec": {
      "name": "python3",
      "display_name": "Python 3"
    },
    "language_info": {
      "name": "python"
    }
  },
  "cells": [
    {
      "cell_type": "markdown",
      "source": [
        "Here is a BMI Calculator!"
      ],
      "metadata": {
        "id": "izb2RoJYomER"
      }
    },
    {
      "cell_type": "code",
      "source": [
        "weight = input('Enter your weight in pounds: ')\n",
        "height = input('Enter your height in inches: ')\n",
        "\n",
        "bmi = ((int(weight)) * 703) / (int(height)* int(height))\n",
        "print('Your BMI is: ')\n",
        "print(bmi)\n",
        "\n",
        "if bmi > 0:\n",
        "  if (bmi < 18.5):\n",
        "    print('You are underweight.')\n",
        "  elif (bmi <= 24.9):\n",
        "    print('You are normal weight.')\n",
        "  elif (bmi <= 29.9):\n",
        "    print(\"You are overweight.\")\n",
        "  elif bmi <= 34.9:\n",
        "    print(\"You are obese.\")\n",
        "  elif bmi <= 39.9:\n",
        "    print(\"You are severely obese.\")\n",
        "  else:\n",
        "    print(\"You are morbidly obese.\")\n",
        "else:\n",
        "    print(\"Please enter valid inputs.\")"
      ],
      "metadata": {
        "colab": {
          "base_uri": "https://localhost:8080/"
        },
        "id": "1gTC48mLopaE",
        "outputId": "e671062c-8f8a-4925-f0c0-3334a622eb3d"
      },
      "execution_count": 1,
      "outputs": [
        {
          "output_type": "stream",
          "name": "stdout",
          "text": [
            "Enter your weight in pounds: 150\n",
            "Enter your height in inches: 69\n",
            "Your BMI is: \n",
            "22.14870825456837\n",
            "You are normal weight.\n"
          ]
        }
      ]
    }
  ]
}
